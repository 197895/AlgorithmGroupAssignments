{
 "cells": [
  {
   "cell_type": "markdown",
   "id": "4873dae0",
   "metadata": {},
   "source": [
    "## $$Homework$$"
   ]
  },
  {
   "cell_type": "markdown",
   "metadata": {},
   "source": [
    "## 提交内容\n",
    "- 每一题的代码\n",
    "- 说明文档`姓名_专业.md`,格式为\n",
    "\n",
    "``` markdown\n",
    "## 题目1\n",
    "### 简要说明\n",
    "代码写在哪里，怎么运行\n",
    "### 输出结果截图\n",
    "\n",
    "## 题目2\n",
    "### 简要说明\n",
    "代码写在哪里，怎么运行\n",
    "### 输出结果截图\n",
    "\n",
    "...\n",
    "```\n"
   ]
  },
  {
   "cell_type": "markdown",
   "id": "f08c07e1",
   "metadata": {},
   "source": [
    "#### 1.  color1.jpg与color2.jpg是2024年赛场上的实拍，尝试去除紫球干扰，将每一个目标球（红/蓝）分割出来并标注。\n",
    "![text](homework/color1.jpg)\n",
    "![text](homework/color2.jpg)\n",
    "> Score: 35% "
   ]
  },
  {
   "cell_type": "markdown",
   "id": "3f170c87",
   "metadata": {},
   "source": [
    "#### 2. 使用边缘检测，预处理今年赛题的梅花桩甲骨文\n",
    "> Score: 35% \n",
    "#### 要求：\n",
    "   - 每个甲骨文为一个图片，从01-30编号，前15个是real，后15个是fake；\n",
    "   - 不留白边。\n",
    "\n",
    "处理前：\n",
    "\n",
    "\n",
    "![](homework\\real_lines.jpg)\n",
    "![](homework\\fake_lines.jpg)\n",
    "\n",
    "\n",
    "处理后：（例子）\n",
    "\n",
    "![](res/cut_line.png)\n"
   ]
  },
  {
   "cell_type": "markdown",
   "id": "5fce3053",
   "metadata": {},
   "source": [
    "#### 3. 读取qr1 2 3.png,用传统视觉算法找到二维码的四个角点，并使用透视变换把Perspective_Transformation二维码矫正。\n",
    "- Score: 30\n",
    "\n",
    "结果示意图\n",
    "\n",
    "![](homework\\Perspective_Transformation.png)\n"
   ]
  },
  {
   "cell_type": "markdown",
   "id": "a009d0cc",
   "metadata": {},
   "source": [
    "#### （选做题）homework文件夹中A，B，C三图是Robocon 2024赛季中在迪卡侬备场的球筐图片，现要求识别出球筐内的球并标注大致球心，判断球筐中红蓝两色的球各多少个。 \n",
    "- Score: 10"
   ]
  },
  {
   "cell_type": "markdown",
   "id": "4f9b7b8b",
   "metadata": {},
   "source": [
    "#### （选做题）使用特征匹配/模板匹配或任意传统视觉方法，识别并判断colorful.jpg中每一个甲骨文属于哪一个类别（real/fake,对应的甲骨文在homework/fake_lines real_lines中），并标注出其类别。\n",
    "- Score: 1\n",
    "> 这部分知识课上未涉及，可以自学尝试，但题目较难，不建议花费过多时间。\n",
    "\n",
    "![](homework\\colorful.jpg)\n"
   ]
  }
 ],
 "metadata": {
  "language_info": {
   "name": "python"
  }
 },
 "nbformat": 4,
 "nbformat_minor": 5
}
